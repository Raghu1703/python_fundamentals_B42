{
 "cells": [
  {
   "cell_type": "code",
   "execution_count": null,
   "metadata": {},
   "outputs": [],
   "source": [
    "Continuation with list datatypes"
   ]
  },
  {
   "cell_type": "code",
   "execution_count": 1,
   "metadata": {},
   "outputs": [],
   "source": [
    "students = ['raghu','varun','hari','sunitha','karthik','naveen','imran','hameed']"
   ]
  },
  {
   "cell_type": "code",
   "execution_count": 2,
   "metadata": {},
   "outputs": [
    {
     "name": "stdout",
     "output_type": "stream",
     "text": [
      "['raghu', 'varun', 'hari', 'sunitha', 'karthik', 'naveen', 'imran', 'hameed']\n"
     ]
    }
   ],
   "source": [
    "print(students)"
   ]
  },
  {
   "cell_type": "code",
   "execution_count": 3,
   "metadata": {},
   "outputs": [
    {
     "data": {
      "text/plain": [
       "list"
      ]
     },
     "execution_count": 3,
     "metadata": {},
     "output_type": "execute_result"
    }
   ],
   "source": [
    "type(students)"
   ]
  },
  {
   "cell_type": "code",
   "execution_count": 4,
   "metadata": {},
   "outputs": [],
   "source": [
    "#scenario: I want to appreciate the students above."
   ]
  },
  {
   "cell_type": "code",
   "execution_count": 6,
   "metadata": {},
   "outputs": [
    {
     "name": "stdout",
     "output_type": "stream",
     "text": [
      "keep up the good work, Raghu\n"
     ]
    }
   ],
   "source": [
    "print(f\"keep up the good work, {students[0].title()}\")"
   ]
  },
  {
   "cell_type": "code",
   "execution_count": 7,
   "metadata": {},
   "outputs": [
    {
     "name": "stdout",
     "output_type": "stream",
     "text": [
      "keep up the good work, Varun\n"
     ]
    }
   ],
   "source": [
    "print(f\"keep up the good work, {students[1].title()}\")"
   ]
  },
  {
   "cell_type": "code",
   "execution_count": null,
   "metadata": {},
   "outputs": [],
   "source": [
    "# Introdution to loops:"
   ]
  },
  {
   "cell_type": "code",
   "execution_count": 8,
   "metadata": {},
   "outputs": [],
   "source": [
    "#Genral syntax of a for loop:\n",
    "#Tempvar ---> can be any name\n",
    "#mainvar ---> students\n",
    "\n",
    "for tempvar in mainvar:\n",
    "    print(tempvar)  # check for indentation"
   ]
  },
  {
   "cell_type": "code",
   "execution_count": 9,
   "metadata": {},
   "outputs": [
    {
     "name": "stdout",
     "output_type": "stream",
     "text": [
      "keep up the good work , Raghu\n",
      "keep up the good work , Varun\n",
      "keep up the good work , Hari\n",
      "keep up the good work , Sunitha\n",
      "keep up the good work , Karthik\n",
      "keep up the good work , Naveen\n",
      "keep up the good work , Imran\n",
      "keep up the good work , Hameed\n"
     ]
    }
   ],
   "source": [
    "for x in students:\n",
    "    print(f\"keep up the good work , {x.title()}\")"
   ]
  },
  {
   "cell_type": "code",
   "execution_count": 12,
   "metadata": {},
   "outputs": [
    {
     "name": "stdout",
     "output_type": "stream",
     "text": [
      "keep up the good work , Raghu\n",
      "I will be looking forward to receive the practice file of today, Raghu\n",
      "keep up the good work , Varun\n",
      "I will be looking forward to receive the practice file of today, Varun\n",
      "keep up the good work , Hari\n",
      "I will be looking forward to receive the practice file of today, Hari\n",
      "keep up the good work , Sunitha\n",
      "I will be looking forward to receive the practice file of today, Sunitha\n",
      "keep up the good work , Karthik\n",
      "I will be looking forward to receive the practice file of today, Karthik\n",
      "keep up the good work , Naveen\n",
      "I will be looking forward to receive the practice file of today, Naveen\n",
      "keep up the good work , Imran\n",
      "I will be looking forward to receive the practice file of today, Imran\n",
      "keep up the good work , Hameed\n",
      "I will be looking forward to receive the practice file of today, Hameed\n"
     ]
    }
   ],
   "source": [
    "for x in students:\n",
    "    print(f\"keep up the good work , {x.title()}\")\n",
    "    print(f\"I will be looking forward to receive the practice file of today, {x.title()}\")"
   ]
  },
  {
   "cell_type": "code",
   "execution_count": 14,
   "metadata": {},
   "outputs": [
    {
     "name": "stdout",
     "output_type": "stream",
     "text": [
      "keep up the good work , Raghu\n",
      "I will be looking forward to receive the practice file of today, Raghu\n",
      "\n",
      "keep up the good work , Varun\n",
      "I will be looking forward to receive the practice file of today, Varun\n",
      "\n",
      "keep up the good work , Hari\n",
      "I will be looking forward to receive the practice file of today, Hari\n",
      "\n",
      "keep up the good work , Sunitha\n",
      "I will be looking forward to receive the practice file of today, Sunitha\n",
      "\n",
      "keep up the good work , Karthik\n",
      "I will be looking forward to receive the practice file of today, Karthik\n",
      "\n",
      "keep up the good work , Naveen\n",
      "I will be looking forward to receive the practice file of today, Naveen\n",
      "\n",
      "keep up the good work , Imran\n",
      "I will be looking forward to receive the practice file of today, Imran\n",
      "\n",
      "keep up the good work , Hameed\n",
      "I will be looking forward to receive the practice file of today, Hameed\n",
      "\n"
     ]
    }
   ],
   "source": [
    "for x in students:\n",
    "    print(f\"keep up the good work , {x.title()}\")\n",
    "    print(f\"I will be looking forward to receive the practice file of today, {x.title()}\\n\")"
   ]
  },
  {
   "cell_type": "code",
   "execution_count": 15,
   "metadata": {},
   "outputs": [
    {
     "name": "stdout",
     "output_type": "stream",
     "text": [
      "keep up the good work , Raghu\n",
      "I will be looking forward to receive the practice file of today, Raghu\n",
      "\n",
      "keep up the good work , Varun\n",
      "I will be looking forward to receive the practice file of today, Varun\n",
      "\n",
      "keep up the good work , Hari\n",
      "I will be looking forward to receive the practice file of today, Hari\n",
      "\n",
      "keep up the good work , Sunitha\n",
      "I will be looking forward to receive the practice file of today, Sunitha\n",
      "\n",
      "keep up the good work , Karthik\n",
      "I will be looking forward to receive the practice file of today, Karthik\n",
      "\n",
      "keep up the good work , Naveen\n",
      "I will be looking forward to receive the practice file of today, Naveen\n",
      "\n",
      "keep up the good work , Imran\n",
      "I will be looking forward to receive the practice file of today, Imran\n",
      "\n",
      "keep up the good work , Hameed\n",
      "I will be looking forward to receive the practice file of today, Hameed\n",
      "\n",
      "Thank you all for showing intrest in learning python\n"
     ]
    }
   ],
   "source": [
    "for x in students:\n",
    "    print(f\"keep up the good work , {x.title()}\")\n",
    "    print(f\"I will be looking forward to receive the practice file of today, {x.title()}\\n\")\n",
    "print(\"Thank you all for showing intrest in learning python\")"
   ]
  },
  {
   "cell_type": "code",
   "execution_count": 16,
   "metadata": {},
   "outputs": [
    {
     "ename": "IndentationError",
     "evalue": "expected an indented block (<ipython-input-16-3be0369d0d7d>, line 2)",
     "output_type": "error",
     "traceback": [
      "\u001b[1;36m  File \u001b[1;32m\"<ipython-input-16-3be0369d0d7d>\"\u001b[1;36m, line \u001b[1;32m2\u001b[0m\n\u001b[1;33m    print(f\"keep up the good work , {ironman.title()}\")\u001b[0m\n\u001b[1;37m    ^\u001b[0m\n\u001b[1;31mIndentationError\u001b[0m\u001b[1;31m:\u001b[0m expected an indented block\n"
     ]
    }
   ],
   "source": [
    "for ironman in students:\n",
    "print(f\"keep up the good work , {ironman.title()}\")\n",
    "     "
   ]
  },
  {
   "cell_type": "code",
   "execution_count": null,
   "metadata": {},
   "outputs": [],
   "source": []
  },
  {
   "cell_type": "code",
   "execution_count": null,
   "metadata": {},
   "outputs": [],
   "source": []
  },
  {
   "cell_type": "code",
   "execution_count": null,
   "metadata": {},
   "outputs": [],
   "source": []
  },
  {
   "cell_type": "code",
   "execution_count": null,
   "metadata": {},
   "outputs": [],
   "source": []
  }
 ],
 "metadata": {
  "kernelspec": {
   "display_name": "Python 3",
   "language": "python",
   "name": "python3"
  },
  "language_info": {
   "codemirror_mode": {
    "name": "ipython",
    "version": 3
   },
   "file_extension": ".py",
   "mimetype": "text/x-python",
   "name": "python",
   "nbconvert_exporter": "python",
   "pygments_lexer": "ipython3",
   "version": "3.8.5"
  }
 },
 "nbformat": 4,
 "nbformat_minor": 4
}
